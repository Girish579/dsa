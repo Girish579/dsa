{
 "cells": [
  {
   "cell_type": "markdown",
   "id": "c72bdd74-4331-42c1-956d-b21303ed3917",
   "metadata": {},
   "source": [
    "# Merge Sort vs. Quick Sort"
   ]
  },
  {
   "cell_type": "markdown",
   "id": "0fe0aedb-9230-4bfa-bb14-dba2f9cceeb4",
   "metadata": {},
   "source": [
    "# Introduction to Sorting and Use Cases"
   ]
  },
  {
   "cell_type": "markdown",
   "id": "ce7b00d8-13e8-40d1-9e01-eeb1ba082603",
   "metadata": {},
   "source": [
    "## Why Sorting?\n",
    "\n",
    "- Sorting is a fundamental operation in computer science.\n",
    "- Used in searching, data processing, and optimizing storage efficiency.\n",
    "\n",
    "## Real-World Use Cases:\n",
    "\n",
    "- E-commerce: Sorting products based on price, ratings.\n",
    "- Databases: Query optimizations in indexing.\n",
    "- Computer Graphics: Z-buffering to determine visibility.\n",
    "- Genetics: DNA sequencing in bioinformatics."
   ]
  },
  {
   "cell_type": "markdown",
   "id": "07e26943-8257-4a81-88ea-62b81675da8c",
   "metadata": {},
   "source": [
    "# Merge Sort - How it Works?"
   ]
  },
  {
   "cell_type": "markdown",
   "id": "e793c35a-7b59-46fd-9b88-b5d81638e11a",
   "metadata": {},
   "source": [
    "## Concept: Divide & Conquer\n",
    "\n",
    "- Divide: Split the array into two halves recursively.\n",
    "- Conquer: Sort the two halves separately.\n",
    "- Merge: Combine the sorted halves into a single sorted array.\n",
    "\n",
    "## Example: Sorting [6, 3, 8, 5, 2, 7, 4, 1]\n",
    "\n",
    "- Split: [6, 3, 8, 5] and [2, 7, 4, 1]\n",
    "- Recursively split into [6, 3], [8, 5], [2, 7], [4, 1]\n",
    "- Sort and merge back in ascending order.\n",
    "\n",
    "## Time Complexity: O(n log n)\n",
    "\n",
    "- Best Case, Worst Case, and Average Case: O(n log n)\n",
    "- Stable Algorithm: Maintains the order of duplicate elements."
   ]
  },
  {
   "cell_type": "markdown",
   "id": "4f19eb6f-79c0-4039-8de3-433c91bf5af5",
   "metadata": {},
   "source": [
    "# Quick Sort - How it Works?"
   ]
  },
  {
   "cell_type": "markdown",
   "id": "2540fb38-0932-4f19-940b-24de422d7add",
   "metadata": {},
   "source": [
    "## Concept: Partitioning\n",
    "\n",
    "- Choose a Pivot (Last element or Randomized).\n",
    "- Partition: Rearrange elements so that smaller ones are on the left, and larger ones are on the right.\n",
    "- Recursively Apply Quick Sort on sub-arrays.\n",
    "\n",
    "## Example: Sorting [6, 3, 8, 5, 2, 7, 4, 1] using 4 as Pivot\n",
    "\n",
    "- Partitioned into [3, 2, 1] (Pivot=4) [6, 8, 5, 7]\n",
    "- Recursively sort left and right sub-arrays.\n",
    "\n",
    "## Time Complexity:\n",
    "\n",
    "- Best Case & Average Case: O(n log n)\n",
    "- Worst Case: O(n²) (Unbalanced partitioning)\n",
    "- Not Stable: May not preserve the order of duplicates."
   ]
  },
  {
   "cell_type": "markdown",
   "id": "93e20bc0-7e6e-47b3-88f4-5d484ce3b0d2",
   "metadata": {},
   "source": [
    "# Performance Comparision"
   ]
  },
  {
   "cell_type": "markdown",
   "id": "ecdca2d7-a380-4ae6-ae51-d87af4c48360",
   "metadata": {},
   "source": [
    "<img src=\"Merge and Quick Sort.jpg\" width=\"800\"/>\n"
   ]
  },
  {
   "cell_type": "markdown",
   "id": "bb6d9805-4795-488b-a7ff-903ccc2f066e",
   "metadata": {},
   "source": [
    "## Summary of How the Code Works\n",
    "- Generates a random list of 10,000 numbers.\n",
    "- Implements Merge Sort (Divide & Conquer):\n",
    "   - Recursively divides and merges arrays.\n",
    "- Implements Quick Sort (Partitioning & Recursion):\n",
    "   - Uses pivot to partition elements.\n",
    "- Measures execution time for both algorithms.\n",
    "- Displays results."
   ]
  },
  {
   "cell_type": "markdown",
   "id": "23aede6f-f8c5-4acc-8e74-12dd9b73b770",
   "metadata": {},
   "source": [
    "# Step 1: Import Required Modules"
   ]
  },
  {
   "cell_type": "code",
   "execution_count": 2,
   "id": "041b138e-7465-4449-988d-41dcc703e863",
   "metadata": {},
   "outputs": [],
   "source": [
    "import random\n",
    "import time"
   ]
  },
  {
   "cell_type": "markdown",
   "id": "6a9404fe-6148-49bc-9ef8-303ce062aa9d",
   "metadata": {},
   "source": [
    "# Step 2: Merge Sort Implementation"
   ]
  },
  {
   "cell_type": "code",
   "execution_count": null,
   "id": "088a5147-9b0c-4a3c-9b94-9ada9f9f7dd0",
   "metadata": {},
   "outputs": [],
   "source": [
    "def merge_sort(arr):\n",
    "    if len(arr) <= 1:\n",
    "        return arr\n",
    "\n",
    "    mid = len(arr) // 2\n",
    "    left_half = merge_sort(arr[:mid])\n",
    "    right_half = merge_sort(arr[mid:])\n",
    "\n",
    "    return merge(left_half, right_half)\n",
    "\n",
    "\n",
    "def merge(left, right):\n",
    "    sorted_arr = []\n",
    "    i = j = 0\n",
    "\n",
    "    while i < len(left) and j < len(right):\n",
    "        if left[i] < right[j]:\n",
    "            sorted_arr.append(left[i])\n",
    "            i += 1\n",
    "        else:\n",
    "            sorted_arr.append(right[j])\n",
    "            j += 1\n",
    "    sorted_arr.extend(left[i:])\n",
    "    sorted_arr.extend(right[j:])\n",
    "    return sorted_arr\n"
   ]
  },
  {
   "cell_type": "raw",
   "id": "e06d33a6-5278-4b15-93c1-ec5c5f4d6b83",
   "metadata": {},
   "source": [
    "How Merge Sort Works?\n",
    "Example\n",
    "Sorting [6, 3, 8, 5, 2, 7, 4, 1]:\n",
    "\n",
    "Divide: [6, 3, 8, 5] and [2, 7, 4, 1]\n",
    "Divide Again: [6, 3], [8, 5], [2, 7], [4, 1]\n",
    "Sort & Merge: [3, 6], [5, 8], [2, 7], [1, 4]\n",
    "Final Merge: [1, 2, 3, 4, 5, 6, 7, 8]"
   ]
  },
  {
   "cell_type": "markdown",
   "id": "148919cb-d65d-444c-94bc-e44ab0081ee8",
   "metadata": {},
   "source": [
    "# Step 3: Quick Sort Implementation"
   ]
  },
  {
   "cell_type": "code",
   "execution_count": null,
   "id": "0349dc71-3b2f-4051-ab08-fc93e2fd983b",
   "metadata": {},
   "outputs": [],
   "source": [
    "def quick_sort(arr):\n",
    "    if len(arr) <= 1:\n",
    "        return arr\n",
    "    \n",
    "    pivot = arr[-1]\n",
    "    \n",
    "    left = [x for x in arr[:-1] if x <= pivot]\n",
    "    right = [x for x in arr[:-1] if x > pivot]\n",
    "    \n",
    "    return quick_sort(left) + [pivot] + quick_sort(right)\n"
   ]
  },
  {
   "cell_type": "raw",
   "id": "fba65d77-2a64-4a36-aff7-0600a2de0038",
   "metadata": {},
   "source": [
    "How Quick Sort Works?\n",
    "Example\n",
    "Sorting [6, 3, 8, 5, 2, 7, 4, 1] (Pivot = 4):\n",
    "\n",
    "Partition: [3, 2, 1] (Left), 4 (Pivot), [6, 8, 5, 7] (Right)\n",
    "Recursively Sort Left and Right:\n",
    "Left: [1, 2, 3]\n",
    "Right: [5, 6, 7, 8]\n",
    "Final Sorted Array: [1, 2, 3, 4, 5, 6, 7, 8]"
   ]
  },
  {
   "cell_type": "markdown",
   "id": "4853b2bf-67ff-482f-84b2-1c09882e9093",
   "metadata": {},
   "source": [
    "# Step 4: Generate a Random List"
   ]
  },
  {
   "cell_type": "code",
   "execution_count": null,
   "id": "bfb69fa8-ccdb-48eb-b4ea-4178ae00be76",
   "metadata": {},
   "outputs": [],
   "source": [
    "arr_size = 10000\n",
    "arr = [random.randint(1, 100000) for _ in range(arr_size)]\n"
   ]
  },
  {
   "cell_type": "markdown",
   "id": "f5f9ff92-7168-4fd7-bbdf-ea556886e16d",
   "metadata": {},
   "source": [
    "# Step 5: Measure Execution Time"
   ]
  },
  {
   "cell_type": "code",
   "execution_count": null,
   "id": "3840aed9-f0f9-445e-acd4-02809ac16cec",
   "metadata": {},
   "outputs": [],
   "source": [
    "start_time = time.time()\n",
    "merge_sorted = merge_sort(arr)\n",
    "merge_time = time.time() - start_time\n",
    "\n",
    "start_time = time.time()\n",
    "quick_sorted = quick_sort(arr)\n",
    "quick_time = time.time() - start_time\n",
    "\n"
   ]
  },
  {
   "cell_type": "markdown",
   "id": "8188102a-4083-4a93-a18c-5fd146b08b81",
   "metadata": {},
   "source": [
    "# Step 6: Print Execution Times"
   ]
  },
  {
   "cell_type": "code",
   "execution_count": null,
   "id": "8ee5a893-7ea1-4d8e-9a3c-89d4fdad1c67",
   "metadata": {},
   "outputs": [],
   "source": [
    "print(f\"Merge Sort Time: {merge_time:.6f} seconds\")\n",
    "print(f\"Quick Sort Time: {quick_time:.6f} seconds\")\n"
   ]
  },
  {
   "cell_type": "markdown",
   "id": "5af987bf-766f-4ea3-be19-d2862a1c0592",
   "metadata": {},
   "source": [
    "# Full Code"
   ]
  },
  {
   "cell_type": "code",
   "execution_count": 5,
   "id": "13d11dd4-cd4f-4142-9f5a-2eea1285d698",
   "metadata": {},
   "outputs": [
    {
     "name": "stdout",
     "output_type": "stream",
     "text": [
      "Merge Sort Time: 0.022998 seconds\n",
      "Quick Sort Time: 0.026007 seconds\n"
     ]
    }
   ],
   "source": [
    "import random\n",
    "import time\n",
    "\n",
    "# Merge Sort Implementation\n",
    "def merge_sort(arr):\n",
    "    if len(arr) <= 1:\n",
    "        return arr\n",
    "\n",
    "    mid = len(arr) // 2\n",
    "    left_half = merge_sort(arr[:mid])\n",
    "    right_half = merge_sort(arr[mid:])\n",
    "\n",
    "    return merge(left_half, right_half)\n",
    "\n",
    "def merge(left, right):\n",
    "    sorted_arr = []\n",
    "    i = j = 0\n",
    "\n",
    "    while i < len(left) and j < len(right):\n",
    "        if left[i] < right[j]:\n",
    "            sorted_arr.append(left[i])\n",
    "            i += 1\n",
    "        else:\n",
    "            sorted_arr.append(right[j])\n",
    "            j += 1\n",
    "\n",
    "    sorted_arr.extend(left[i:])\n",
    "    sorted_arr.extend(right[j:])\n",
    "    return sorted_arr\n",
    "\n",
    "# Quick Sort Implementation\n",
    "def quick_sort(arr):\n",
    "    if len(arr) <= 1:\n",
    "        return arr\n",
    "\n",
    "    pivot = arr[-1]\n",
    "    left = [x for x in arr[:-1] if x <= pivot]\n",
    "    right = [x for x in arr[:-1] if x > pivot]\n",
    "\n",
    "    return quick_sort(left) + [pivot] + quick_sort(right)\n",
    "\n",
    "# Generate Random List\n",
    "arr_size = 10000\n",
    "arr = [random.randint(1, 100000) for _ in range(arr_size)]\n",
    "\n",
    "# Measure Execution Time\n",
    "start_time = time.time()\n",
    "merge_sorted = merge_sort(arr)\n",
    "merge_time = time.time() - start_time\n",
    "\n",
    "start_time = time.time()\n",
    "quick_sorted = quick_sort(arr)\n",
    "quick_time = time.time() - start_time\n",
    "\n",
    "print(f\"Merge Sort Time: {merge_time:.6f} seconds\")\n",
    "print(f\"Quick Sort Time: {quick_time:.6f} seconds\")\n"
   ]
  },
  {
   "cell_type": "markdown",
   "id": "c0214c71-c5ae-4524-a9e4-cf6d82e84687",
   "metadata": {},
   "source": [
    "# Real-World Applications"
   ]
  },
  {
   "cell_type": "markdown",
   "id": "6a401d4e-e831-4b1c-91e3-75a836a2063b",
   "metadata": {},
   "source": [
    "✅ Where Merge Sort is Used?\n",
    "- Sorting Large Datasets: Used in external sorting when data is too large to fit in memory.\n",
    "- Stable Sorting: Used in databases where maintaining order of equal elements is crucial.\n",
    "- Linked List Sorting: Works well with linked lists as merging can be done efficiently.\n",
    "    \n",
    "✅ Where Quick Sort is Used?\n",
    "- In-memory Sorting: Used in languages like C, Java for quick in-place sorting.\n",
    "- Competitive Programming: Works well for most average-case scenarios.\n",
    "- Databases & Search Algorithms: Used in query optimization."
   ]
  },
  {
   "cell_type": "code",
   "execution_count": null,
   "id": "085022f1-e155-42de-a7a2-39e6a85a1660",
   "metadata": {},
   "outputs": [],
   "source": []
  }
 ],
 "metadata": {
  "kernelspec": {
   "display_name": "Python 3 (ipykernel)",
   "language": "python",
   "name": "python3"
  },
  "language_info": {
   "codemirror_mode": {
    "name": "ipython",
    "version": 3
   },
   "file_extension": ".py",
   "mimetype": "text/x-python",
   "name": "python",
   "nbconvert_exporter": "python",
   "pygments_lexer": "ipython3",
   "version": "3.12.7"
  }
 },
 "nbformat": 4,
 "nbformat_minor": 5
}
