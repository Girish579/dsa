{
 "cells": [
  {
   "cell_type": "markdown",
   "id": "f93a0dd6-b226-48f2-b805-5771fbc0a216",
   "metadata": {},
   "source": [
    "# Recursive Binary Search (Using Function Calls)"
   ]
  },
  {
   "cell_type": "code",
   "execution_count": 1,
   "id": "f14e70a5-c1e0-485e-85e0-82ba73dc0838",
   "metadata": {},
   "outputs": [
    {
     "name": "stdout",
     "output_type": "stream",
     "text": [
      "Element found at index: 4\n"
     ]
    }
   ],
   "source": [
    "def binary_search_recursive(arr, left, right, target):\n",
    "    if left > right:\n",
    "        return -1  # Element not found\n",
    "\n",
    "    mid = left + (right - left) // 2\n",
    "\n",
    "    if arr[mid] == target:\n",
    "        return mid  # Element found\n",
    "    elif arr[mid] < target:\n",
    "        return binary_search_recursive(arr, mid + 1, right, target)  # Search right half\n",
    "    else:\n",
    "        return binary_search_recursive(arr, left, mid - 1, target)  # Search left half\n",
    "\n",
    "# Example Usage\n",
    "arr = [10, 20, 30, 40, 50, 60, 70]\n",
    "target = 50\n",
    "result = binary_search_recursive(arr, 0, len(arr) - 1, target)\n",
    "\n",
    "print(\"Element found at index:\", result) if result != -1 else print(\"Element not found\")\n"
   ]
  },
  {
   "cell_type": "code",
   "execution_count": null,
   "id": "296820df-abb1-4e1c-92f0-977ece00a277",
   "metadata": {},
   "outputs": [],
   "source": []
  }
 ],
 "metadata": {
  "kernelspec": {
   "display_name": "Python 3 (ipykernel)",
   "language": "python",
   "name": "python3"
  },
  "language_info": {
   "codemirror_mode": {
    "name": "ipython",
    "version": 3
   },
   "file_extension": ".py",
   "mimetype": "text/x-python",
   "name": "python",
   "nbconvert_exporter": "python",
   "pygments_lexer": "ipython3",
   "version": "3.12.7"
  }
 },
 "nbformat": 4,
 "nbformat_minor": 5
}
