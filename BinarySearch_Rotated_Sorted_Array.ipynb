{
 "cells": [
  {
   "cell_type": "markdown",
   "id": "17cf3cc7-0b7d-4efa-a10f-aae29b5ebb16",
   "metadata": {},
   "source": [
    "# Binary Search in a Rotated Sorted Array"
   ]
  },
  {
   "cell_type": "code",
   "execution_count": 1,
   "id": "968019a0-89ad-4410-a86c-b5403eeff0d3",
   "metadata": {},
   "outputs": [
    {
     "name": "stdout",
     "output_type": "stream",
     "text": [
      "Element found at index: 5\n"
     ]
    }
   ],
   "source": [
    "def search_rotated_sorted_array(arr, target):\n",
    "    left, right = 0, len(arr) - 1\n",
    "\n",
    "    while left <= right:\n",
    "        mid = left + (right - left) // 2\n",
    "\n",
    "        if arr[mid] == target:\n",
    "            return mid  # Element found\n",
    "\n",
    "        # Check which half is sorted\n",
    "        if arr[left] <= arr[mid]:  # Left half is sorted\n",
    "            if arr[left] <= target < arr[mid]:  # Target is in the left half\n",
    "                right = mid - 1\n",
    "            else:  # Target is in the right half\n",
    "                left = mid + 1\n",
    "        else:  # Right half is sorted\n",
    "            if arr[mid] < target <= arr[right]:  # Target is in the right half\n",
    "                left = mid + 1\n",
    "            else:  # Target is in the left half\n",
    "                right = mid - 1\n",
    "\n",
    "    return -1  # Element not found\n",
    "\n",
    "# Example Usage\n",
    "arr = [40, 50, 60, 70, 10, 20, 30]\n",
    "target = 20\n",
    "result = search_rotated_sorted_array(arr, target)\n",
    "print(\"Element found at index:\", result) if result != -1 else print(\"Element not found\")\n"
   ]
  },
  {
   "cell_type": "code",
   "execution_count": null,
   "id": "fcc3583f-a83d-4427-8701-7c5a02c26b00",
   "metadata": {},
   "outputs": [],
   "source": []
  }
 ],
 "metadata": {
  "kernelspec": {
   "display_name": "Python 3 (ipykernel)",
   "language": "python",
   "name": "python3"
  },
  "language_info": {
   "codemirror_mode": {
    "name": "ipython",
    "version": 3
   },
   "file_extension": ".py",
   "mimetype": "text/x-python",
   "name": "python",
   "nbconvert_exporter": "python",
   "pygments_lexer": "ipython3",
   "version": "3.12.7"
  }
 },
 "nbformat": 4,
 "nbformat_minor": 5
}
