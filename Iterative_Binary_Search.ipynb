{
 "cells": [
  {
   "cell_type": "markdown",
   "id": "91ec4571-68b2-49c7-997f-0142fe9beb56",
   "metadata": {},
   "source": [
    "# Iterative Binary Search (Using a Loop)"
   ]
  },
  {
   "cell_type": "code",
   "execution_count": 1,
   "id": "7af8b3ea-beda-48c9-980d-14d461a19a93",
   "metadata": {},
   "outputs": [
    {
     "name": "stdout",
     "output_type": "stream",
     "text": [
      "Element found at index: 4\n"
     ]
    }
   ],
   "source": [
    "def binary_search_iterative(arr, target):\n",
    "    left, right = 0, len(arr) - 1\n",
    "\n",
    "    while left <= right:\n",
    "        mid = left + (right - left) // 2\n",
    "\n",
    "        if arr[mid] == target:\n",
    "            return mid  # Element found\n",
    "        elif arr[mid] < target:\n",
    "            left = mid + 1  # Search right half\n",
    "        else:\n",
    "            right = mid - 1  # Search left half\n",
    "\n",
    "    return -1  # Element not found\n",
    "\n",
    "# Example Usage\n",
    "arr = [10, 20, 30, 40, 50, 60, 70]\n",
    "target = 50\n",
    "result = binary_search_iterative(arr, target)\n",
    "\n",
    "print(\"Element found at index:\", result) if result != -1 else print(\"Element not found\")\n"
   ]
  },
  {
   "cell_type": "code",
   "execution_count": null,
   "id": "e7ed870c-e1c4-4241-89ba-eea5d23dcbf8",
   "metadata": {},
   "outputs": [],
   "source": []
  }
 ],
 "metadata": {
  "kernelspec": {
   "display_name": "Python 3 (ipykernel)",
   "language": "python",
   "name": "python3"
  },
  "language_info": {
   "codemirror_mode": {
    "name": "ipython",
    "version": 3
   },
   "file_extension": ".py",
   "mimetype": "text/x-python",
   "name": "python",
   "nbconvert_exporter": "python",
   "pygments_lexer": "ipython3",
   "version": "3.12.7"
  }
 },
 "nbformat": 4,
 "nbformat_minor": 5
}
